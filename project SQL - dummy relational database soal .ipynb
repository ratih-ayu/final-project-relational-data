import csv
from faker import Faker
from dateutil import parser
import random

fake = Faker('id_ID')  # Menggunakan konfigurasi untuk nama Indonesia

# Buat data dummy untuk tabel User
user_data = [(i, fake.name(), fake.phone_number()[:13], fake.email(), random.randint(1, 15)) for i in range(2, 101)]

# Buat data dummy untuk tabel Iklan dengan rentang date_post dari Januari 2023 hingga Desember 2023
start_date = parser.parse('2023-01-01')
end_date = parser.parse('2023-12-31')
iklan_data = [
    (
        i,
        fake.sentence(1,50),
        random.randint(1, 50),
        random.randint(1, 100),
        random.choice([True, False]),
        fake.date_time_between_dates(datetime_start=start_date, datetime_end=end_date).date()
    )
    for i in range(2, 101)
]

# Buat data dummy untuk tabel Bid dengan rentang harga, bid_date, dan bid_status yang diminta
bid_data = [
    (
        i,
        random.randint(1, 50),
        random.randint(3, 50),
        random.randint(3, 100),
        random.randint(100000000, 700000000),
        fake.date_time_between_dates(datetime_start=start_date, datetime_end=end_date),
        random.choice(['Sent', 'Failed'])
    )
    for i in range(1, 101)
]

# Simpan data dalam format CSV
def save_to_csv(file_name, data):
    with open(file_name, 'w', newline='') as csvfile:
        csv_writer = csv.writer(csvfile)
        csv_writer.writerows(data)

# Simpan data dummy dalam file CSV
save_to_csv('user.csv', user_data)
save_to_csv('iklan.csv', iklan_data)
save_to_csv('bid.csv', bid_data)
