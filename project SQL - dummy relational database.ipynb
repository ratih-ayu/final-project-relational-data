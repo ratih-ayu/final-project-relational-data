{
  "nbformat": 4,
  "nbformat_minor": 0,
  "metadata": {
    "colab": {
      "provenance": []
    },
    "kernelspec": {
      "name": "python3",
      "display_name": "Python 3"
    },
    "language_info": {
      "name": "python"
    }
  },
  "cells": [
    {
      "cell_type": "code",
      "execution_count": 1,
      "metadata": {
        "colab": {
          "base_uri": "https://localhost:8080/"
        },
        "id": "D57-zAsFBqJ1",
        "outputId": "cabd9b72-bdff-4e81-f576-a4b8b4ea51a5"
      },
      "outputs": [
        {
          "output_type": "stream",
          "name": "stdout",
          "text": [
            "Collecting faker\n",
            "  Downloading Faker-22.0.0-py3-none-any.whl (1.7 MB)\n",
            "\u001b[2K     \u001b[90m━━━━━━━━━━━━━━━━━━━━━━━━━━━━━━━━━━━━━━━━\u001b[0m \u001b[32m1.7/1.7 MB\u001b[0m \u001b[31m13.3 MB/s\u001b[0m eta \u001b[36m0:00:00\u001b[0m\n",
            "\u001b[?25hRequirement already satisfied: python-dateutil>=2.4 in /usr/local/lib/python3.10/dist-packages (from faker) (2.8.2)\n",
            "Requirement already satisfied: six>=1.5 in /usr/local/lib/python3.10/dist-packages (from python-dateutil>=2.4->faker) (1.16.0)\n",
            "Installing collected packages: faker\n",
            "Successfully installed faker-22.0.0\n"
          ]
        }
      ],
      "source": [
        "!pip install faker"
      ]
    },
    {
      "cell_type": "code",
      "source": [
        "import csv\n",
        "from faker import Faker\n",
        "from dateutil import parser\n",
        "import random\n",
        "\n",
        "fake = Faker('id_ID')  # Menggunakan konfigurasi untuk nama Indonesia\n",
        "\n",
        "# Buat data dummy untuk tabel Kota\n",
        "kota_data = [(i, fake.city(), f'({fake.latitude()}, {fake.longitude()})') for i in range(1, 16)]\n",
        "\n",
        "# Buat data dummy untuk tabel User\n",
        "user_data = [(i, fake.name(), fake.phone_number()[:13], fake.email(), random.randint(1, 15)) for i in range(2, 101)]\n",
        "\n",
        "# Buat data dummy untuk tabel Product\n",
        "product_data = [(i, fake.word(), fake.word(), fake.word(), random.randint(2000, 2023), random.randint(10000, 1000000)) for i in range(1, 51)]\n",
        "\n",
        "# Buat data dummy untuk tabel Iklan dengan rentang date_post dari Januari 2023 hingga Desember 2023\n",
        "start_date = parser.parse('2023-01-01')\n",
        "end_date = parser.parse('2023-12-31')\n",
        "iklan_data = [\n",
        "    (\n",
        "        i,\n",
        "        fake.sentence(),\n",
        "        random.randint(1, 50),\n",
        "        random.randint(1, 100),\n",
        "        random.choice([True, False]),\n",
        "        fake.date_time_between_dates(datetime_start=start_date, datetime_end=end_date).date()\n",
        "    )\n",
        "    for i in range(2, 101)\n",
        "]\n",
        "\n",
        "# Buat data dummy untuk tabel Bid dengan rentang harga, bid_date, dan bid_status yang diminta\n",
        "bid_data = [\n",
        "    (\n",
        "        i,\n",
        "        random.randint(1, 50),\n",
        "        random.randint(2, 50),\n",
        "        random.randint(100000000, 700000000),\n",
        "        random.choice(['Sent', 'Failed']),\n",
        "        fake.date_time_between_dates(datetime_start=start_date, datetime_end=end_date),\n",
        "        random.randint(2, 100)\n",
        "    )\n",
        "    for i in range(1, 101)\n",
        "]\n",
        "\n",
        "# Simpan data dalam format CSV\n",
        "def save_to_csv(file_name, data):\n",
        "    with open(file_name, 'w', newline='') as csvfile:\n",
        "        csv_writer = csv.writer(csvfile)\n",
        "        csv_writer.writerows(data)\n",
        "\n",
        "# Simpan data dummy dalam file CSV\n",
        "save_to_csv('kota.csv', kota_data)\n",
        "save_to_csv('user.csv', user_data)\n",
        "save_to_csv('product.csv', product_data)\n",
        "save_to_csv('iklan.csv', iklan_data)\n",
        "save_to_csv('bid.csv', bid_data)"
      ],
      "metadata": {
        "id": "sIKw3OtLBtEn"
      },
      "execution_count": 2,
      "outputs": []
    }
  ]
}